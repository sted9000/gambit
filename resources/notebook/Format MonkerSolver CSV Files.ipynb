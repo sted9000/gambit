{
 "cells": [
  {
   "cell_type": "code",
   "execution_count": 1,
   "metadata": {},
   "outputs": [],
   "source": [
    "from utils import *\n",
    "from previews import preview_csv, preview_list, preview_list_of_lists, preview_dict_of_lists, preview_dict_of_dicts"
   ]
  },
  {
   "cell_type": "markdown",
   "metadata": {},
   "source": [
    "# Format MonkerSolvers csv files into objects to dispaly on GambitPLO\n",
    "\n",
    "Here is how this Notebook is layed out:\n",
    "1. Find the data that we want to format\n",
    "2. Preview the formatting steps with a small sample of the data to make sure everything is working.\n",
    "3. Loop over and format the whole set (this will take some time to process).\n",
    "4. Save the formatted data.\n",
    "\n",
    "Note: There are 10-15 steps in the data formatting. Hopefully I have broken down each into inteligable parts.\n",
    "\n",
    "As always, if you want more information about a function just check the docstring by running a cell with:  funcName.\\_\\_doc\\_\\_"
   ]
  },
  {
   "cell_type": "markdown",
   "metadata": {},
   "source": [
    "## 1. Find the data we want to format"
   ]
  },
  {
   "cell_type": "markdown",
   "metadata": {},
   "source": [
    "Assuming that you used the script in [MonkerSolver Scraper]('/'), you should be good to go. Simply enter the relative path to the data below in the data_tree_path variable."
   ]
  },
  {
   "cell_type": "code",
   "execution_count": 2,
   "metadata": {},
   "outputs": [],
   "source": [
    "data_tree_path = '../gambitData'  # the relative path to the base of your tree"
   ]
  },
  {
   "cell_type": "code",
   "execution_count": 3,
   "metadata": {},
   "outputs": [],
   "source": [
    "openning_action = 'rfi'"
   ]
  },
  {
   "cell_type": "code",
   "execution_count": 4,
   "metadata": {},
   "outputs": [],
   "source": [
    "formatted_tree_path = '../gambitFormatted'"
   ]
  },
  {
   "cell_type": "code",
   "execution_count": 5,
   "metadata": {},
   "outputs": [],
   "source": [
    "files_to_process = find_paths(data_tree_path)"
   ]
  },
  {
   "cell_type": "markdown",
   "metadata": {},
   "source": [
    "## 2. Preview the formatting steps"
   ]
  },
  {
   "cell_type": "markdown",
   "metadata": {},
   "source": [
    "### Create and format lists"
   ]
  },
  {
   "cell_type": "code",
   "execution_count": 6,
   "metadata": {},
   "outputs": [],
   "source": [
    "slice_of_data = files_to_process[6]  # get a slice of the data"
   ]
  },
  {
   "cell_type": "code",
   "execution_count": 7,
   "metadata": {
    "scrolled": true
   },
   "outputs": [
    {
     "name": "stdout",
     "output_type": "stream",
     "text": [
      "File: 0_ds.csv\n",
      "\n",
      "Combo,Weight,EV\n",
      "\n",
      "3h3s2h2s,1.2161252556736304E-6,0.0\n",
      "\n",
      "4h3s2h2s,0.9999642401643728,0.0\n",
      "\n",
      "-----\n",
      "File: 1_ds.csv\n",
      "\n",
      "Combo,Weight,EV\n",
      "\n",
      "3h3s2h2s,0.999998786360288,1225.5985928694772\n",
      "\n",
      "4h3s2h2s,3.5759835716033513E-5,-301.44177781423656\n",
      "\n",
      "-----\n"
     ]
    }
   ],
   "source": [
    "preview_csv(slice_of_data)  # preview the raw csv files"
   ]
  },
  {
   "cell_type": "code",
   "execution_count": 8,
   "metadata": {},
   "outputs": [
    {
     "name": "stdout",
     "output_type": "stream",
     "text": [
      "10764\n",
      "10428\n",
      "-----\n"
     ]
    }
   ],
   "source": [
    "csv_lists = csv_to_list(slice_of_data)  # turn the csv files into python lists"
   ]
  },
  {
   "cell_type": "code",
   "execution_count": 9,
   "metadata": {},
   "outputs": [
    {
     "name": "stdout",
     "output_type": "stream",
     "text": [
      "['3h3s2h2s', '1.2161252556736304E-6', '0.0']\n",
      "['4h3s2h2s', '0.9999642401643728', '0.0']\n",
      "['5h3s2h2s', '0.9999975400389621', '0.0']\n",
      "-----\n",
      "['3h3s2h2s', '0.999998786360288', '1225.5985928694772']\n",
      "['4h3s2h2s', '3.5759835716033513E-5', '-301.44177781423656']\n",
      "['5h3s2h2s', '2.459961043955367E-6', '-214.41743209239118']\n",
      "-----\n"
     ]
    }
   ],
   "source": [
    "preview_list_of_lists(csv_lists)  # preview the csv data now in lists"
   ]
  },
  {
   "cell_type": "code",
   "execution_count": 10,
   "metadata": {},
   "outputs": [],
   "source": [
    "hands_to_keep = compare_weights(csv_lists)  # keep action with the heighest weight"
   ]
  },
  {
   "cell_type": "code",
   "execution_count": 11,
   "metadata": {},
   "outputs": [
    {
     "name": "stdout",
     "output_type": "stream",
     "text": [
      "['3h3s2h2s', '1225.5985928694772']\n",
      "['4h3s2h2s', '0.0']\n",
      "['5h3s2h2s', '0.0']\n",
      "['6h3s2h2s', '0.0']\n",
      "['7h3s2h2s', '0.0']\n"
     ]
    }
   ],
   "source": [
    "preview_list(hands_to_keep)  # preview the list of hands that we are keeping"
   ]
  },
  {
   "cell_type": "code",
   "execution_count": 12,
   "metadata": {},
   "outputs": [],
   "source": [
    "separated_hands = separate_hands(hands_to_keep)  # break apart the rank and suits of the hands"
   ]
  },
  {
   "cell_type": "code",
   "execution_count": 13,
   "metadata": {},
   "outputs": [
    {
     "name": "stdout",
     "output_type": "stream",
     "text": [
      "['3322', 'hshs', '1225.5985928694772']\n",
      "['4322', 'hshs', '0.0']\n",
      "['5322', 'hshs', '0.0']\n",
      "['6322', 'hshs', '0.0']\n",
      "['7322', 'hshs', '0.0']\n"
     ]
    }
   ],
   "source": [
    "preview_list(separated_hands)  # preview the hands after they are broken apart"
   ]
  },
  {
   "cell_type": "code",
   "execution_count": 14,
   "metadata": {},
   "outputs": [],
   "source": [
    "normalized_suits = normalize_suits(separated_hands)  # convert the hands suits into wxyz format"
   ]
  },
  {
   "cell_type": "code",
   "execution_count": 15,
   "metadata": {},
   "outputs": [
    {
     "name": "stdout",
     "output_type": "stream",
     "text": [
      "['3322', 'wxwx', '1225.5985928694772']\n",
      "['4322', 'wxwx', '0.0']\n",
      "['5322', 'wxwx', '0.0']\n",
      "['6322', 'wxwx', '0.0']\n",
      "['7322', 'wxwx', '0.0']\n"
     ]
    }
   ],
   "source": [
    "preview_list(normalized_suits)  # preview the hands with the converted suits"
   ]
  },
  {
   "cell_type": "code",
   "execution_count": 16,
   "metadata": {},
   "outputs": [],
   "source": [
    "singles_list = remove_duplicates(normalized_suits)  # now that the suits are converted, we remove the duplicates"
   ]
  },
  {
   "cell_type": "code",
   "execution_count": 17,
   "metadata": {},
   "outputs": [
    {
     "name": "stdout",
     "output_type": "stream",
     "text": [
      "['3322', 'wxwx', '1225.5985928694772']\n",
      "['4322', 'wxwx', '0.0']\n",
      "['5322', 'wxwx', '0.0']\n",
      "['6322', 'wxwx', '0.0']\n",
      "['7322', 'wxwx', '0.0']\n"
     ]
    }
   ],
   "source": [
    "preview_list(singles_list)  # preview hands with duplicates removed"
   ]
  },
  {
   "cell_type": "code",
   "execution_count": 18,
   "metadata": {},
   "outputs": [
    {
     "name": "stdout",
     "output_type": "stream",
     "text": [
      "['3322', 'wxwx', '1225.5985928694772']\n",
      "['2243', 'wxwx', '0.0']\n",
      "['2253', 'wxwx', '0.0']\n",
      "['2263', 'wxwx', '0.0']\n",
      "['2273', 'wxwx', '0.0']\n"
     ]
    }
   ],
   "source": [
    "if is_pair(slice_of_data[1]):  # if hands are paired \n",
    "    singles_list = pairs_to_front(singles_list)  # move the pairs to the front of the string\n",
    "    preview_list(singles_list)  # preview hands with pairs moved to the front"
   ]
  },
  {
   "cell_type": "code",
   "execution_count": 19,
   "metadata": {},
   "outputs": [],
   "source": [
    "suit_groups = group_suits(singles_list)  # create seperate lists for each suitedness category"
   ]
  },
  {
   "cell_type": "code",
   "execution_count": 20,
   "metadata": {},
   "outputs": [
    {
     "name": "stdout",
     "output_type": "stream",
     "text": [
      "wxwx\n",
      "['3322', '1225.5985928694772']\n",
      "['2243', '0.0']\n",
      "['2253', '0.0']\n",
      "-----\n",
      "wwxy\n",
      "['3342', '0.0']\n",
      "['3352', '0.0']\n",
      "['3362', '0.0']\n",
      "-----\n",
      "wxxw\n",
      "['2243', '0.0']\n",
      "['2253', '0.0']\n",
      "['2254', '84.91435020619394']\n",
      "-----\n"
     ]
    }
   ],
   "source": [
    "preview_dict_of_lists(suit_groups)  # preview hands broken up into suitedness categories"
   ]
  },
  {
   "cell_type": "markdown",
   "metadata": {},
   "source": [
    "### Turn lists into objects to store"
   ]
  },
  {
   "cell_type": "code",
   "execution_count": 21,
   "metadata": {},
   "outputs": [],
   "source": [
    "open_maps = create_open_maps(suit_groups)"
   ]
  },
  {
   "cell_type": "code",
   "execution_count": 22,
   "metadata": {},
   "outputs": [
    {
     "name": "stdout",
     "output_type": "stream",
     "text": [
      "wxwx\n",
      "33 {'22': '1225.5985928694772', '42': '0.0', '54': '223.4603797832429', '64': '0.0', '74': '0.0', '84': '0.0', '94': '0.0', 'T4': '0.0', 'J4': '0.0', 'Q4': '0.0', 'K4': '0.0', 'A4': '643.781179027544', '52': '0.0', '65': '365.8310473637887', '75': '0.0', '85': '0.0', '95': '0.0', 'T5': '0.0', 'J5': '0.0', 'Q5': '0.0', 'K5': '0.0', 'A5': '815.4690353976154', '62': '0.0', '76': '0.0', '86': '0.0', '96': '0.0', 'T6': '0.0', 'J6': '0.0', 'Q6': '0.0', 'K6': '0.0', 'A6': '205.68414849615144', '72': '0.0', '87': '0.0', '97': '0.0', 'T7': '0.0', 'J7': '0.0', 'Q7': '0.0', 'K7': '0.0', 'A7': '115.6205910481259', '82': '0.0', '98': '0.0', 'T8': '0.0', 'J8': '0.0', 'Q8': '0.0', 'K8': '0.0', 'A8': '0.0', '92': '0.0', 'T9': '0.0', 'J9': '0.0', 'Q9': '0.0', 'K9': '0.0', 'A9': '47.08793193204473', 'T2': '0.0', 'JT': '0.0', 'QT': '0.0', 'KT': '0.0', 'AT': '542.3626172475351', 'J2': '0.0', 'QJ': '0.0', 'KJ': '0.0', 'AJ': '580.7082798579888', 'Q2': '0.0', 'KQ': '0.0', 'AQ': '819.2350663699278', 'K2': '0.0', 'AK': '1306.7682867147844', 'A2': '242.40326553667435'}\n",
      "22 {'43': '0.0', '53': '0.0', '63': '0.0', '73': '0.0', '83': '0.0', '93': '0.0', 'T3': '0.0', 'J3': '0.0', 'Q3': '0.0', 'K3': '0.0', 'A3': '335.56282573117926', '54': '84.91435020619394', '64': '0.0', '74': '0.0', '84': '0.0', '94': '0.0', 'T4': '0.0', 'J4': '0.0', 'Q4': '0.0', 'K4': '0.0', 'A4': '402.69189857360095', '65': '37.392895469531894', '75': '0.0', '85': '0.0', '95': '0.0', 'T5': '0.0', 'J5': '0.0', 'Q5': '0.0', 'K5': '0.0', 'A5': '457.8830672184842', '76': '0.0', '86': '0.0', '96': '0.0', 'T6': '0.0', 'J6': '0.0', 'Q6': '0.0', 'K6': '0.0', 'A6': '0.0', '87': '0.0', '97': '0.0', 'T7': '0.0', 'J7': '0.0', 'Q7': '0.0', 'K7': '0.0', 'A7': '0.0', '98': '0.0', 'T8': '0.0', 'J8': '0.0', 'Q8': '0.0', 'K8': '0.0', 'A8': '0.0', 'T9': '0.0', 'J9': '0.0', 'Q9': '0.0', 'K9': '0.0', 'A9': '59.09761781854745', 'JT': '0.0', 'QT': '0.0', 'KT': '0.0', 'AT': '549.9909476599431', 'QJ': '0.0', 'KJ': '0.0', 'AJ': '614.6147462638603', 'KQ': '9.110604438405032', 'AQ': '871.912822273139', 'AK': '1312.4734793573023'}\n",
      "44 {'22': '1118.289033420966', '32': '0.0', '33': '1495.334148496508', '52': '0.0', '53': '233.42986184903768', '65': '562.9635624855165', '75': '288.93716507713856', '85': '0.0', '95': '0.0', 'T5': '0.0', 'J5': '0.0', 'Q5': '0.0', 'K5': '69.80578502503724', 'A5': '1025.5115876935847', '62': '0.0', '63': '0.0', '76': '287.3248489597299', '86': '0.0', '96': '0.0', 'T6': '0.0', 'J6': '0.0', 'Q6': '0.0', 'K6': '0.0', 'A6': '500.1198560818639', '72': '0.0', '73': '0.0', '87': '0.0', '97': '0.0', 'T7': '0.0', 'J7': '0.0', 'Q7': '0.0', 'K7': '0.0', 'A7': '443.7769620587809', '82': '0.0', '83': '0.0', '98': '0.0', 'T8': '0.0', 'J8': '0.0', 'Q8': '0.0', 'K8': '0.0', 'A8': '187.21002908974864', '92': '0.0', '93': '0.0', 'T9': '0.0', 'J9': '0.0', 'Q9': '0.0', 'K9': '0.0', 'A9': '0.0', 'T2': '0.0', 'T3': '0.0', 'JT': '0.0', 'QT': '0.0', 'KT': '0.0', 'AT': '431.83062660491856', 'J2': '0.0', 'J3': '0.0', 'QJ': '0.0', 'KJ': '0.0', 'AJ': '527.8634679252585', 'Q2': '0.0', 'Q3': '0.0', 'KQ': '0.0', 'AQ': '845.9145731543127', 'K2': '0.0', 'K3': '0.0', 'AK': '1222.2388473665474', 'A2': '180.9867120501622', 'A3': '506.6966188571902'}\n",
      "-----\n",
      "wwxy\n",
      "33 {'42': '0.0', '52': '0.0', '62': '0.0', '72': '0.0', '82': '0.0', '92': '0.0', 'T2': '0.0', 'J2': '0.0', 'Q2': '0.0', 'K2': '0.0', 'A2': '242.40326553667435'}\n",
      "44 {'52': '0.0', '62': '0.0', '72': '0.0', '82': '0.0', '92': '0.0', 'T2': '0.0', 'J2': '0.0', 'Q2': '0.0', 'K2': '0.0', 'A2': '180.9867120501622', '53': '233.42986184903768', '63': '0.0', '73': '0.0', '83': '0.0', '93': '0.0', 'T3': '0.0', 'J3': '0.0', 'Q3': '0.0', 'K3': '0.0', 'A3': '506.6966188571902'}\n",
      "55 {'62': '0.0', '72': '0.0', '82': '0.0', '92': '0.0', 'T2': '0.0', 'J2': '0.0', 'Q2': '0.0', 'K2': '0.0', 'A2': '131.8782257751054', '63': '297.40266381882464', '73': '0.0', '83': '0.0', '93': '0.0', 'T3': '0.0', 'J3': '0.0', 'Q3': '0.0', 'K3': '0.0', 'A3': '608.6333186290693', '64': '575.5715225957813', '74': '268.1454764267185', '84': '0.0', '94': '0.0', 'T4': '0.0', 'J4': '0.0', 'Q4': '0.0', 'K4': '0.0', 'A4': '833.6949657196919'}\n",
      "-----\n",
      "wxxw\n",
      "22 {'43': '0.0', '53': '0.0', '54': '84.91435020619394', '63': '0.0', '64': '0.0', '65': '37.392895469531894', '73': '0.0', '74': '0.0', '75': '0.0', '76': '0.0', '83': '0.0', '84': '0.0', '85': '0.0', '86': '0.0', '87': '0.0', '93': '0.0', '94': '0.0', '95': '0.0', '96': '0.0', '97': '0.0', '98': '0.0', 'T3': '0.0', 'T4': '0.0', 'T5': '0.0', 'T6': '0.0', 'T7': '0.0', 'T8': '0.0', 'T9': '0.0', 'J3': '0.0', 'J4': '0.0', 'J5': '0.0', 'J6': '0.0', 'J7': '0.0', 'J8': '0.0', 'J9': '0.0', 'JT': '0.0', 'Q3': '0.0', 'Q4': '0.0', 'Q5': '0.0', 'Q6': '0.0', 'Q7': '0.0', 'Q8': '0.0', 'Q9': '0.0', 'QT': '0.0', 'QJ': '0.0', 'K3': '0.0', 'K4': '0.0', 'K5': '0.0', 'K6': '0.0', 'K7': '0.0', 'K8': '0.0', 'K9': '0.0', 'KT': '0.0', 'KJ': '0.0', 'KQ': '9.110604438405032', 'A3': '335.56282573117926', 'A4': '402.69189857360095', 'A5': '457.8830672184842', 'A6': '0.0', 'A7': '0.0', 'A8': '0.0', 'A9': '59.09761781854745', 'AT': '549.9909476599431', 'AJ': '614.6147462638603', 'AQ': '871.912822273139', 'AK': '1312.4734793573023'}\n",
      "44 {'32': '0.0', '65': '562.9635624855165', '75': '288.93716507713856', '76': '287.3248489597299', '85': '0.0', '86': '0.0', '87': '0.0', '95': '0.0', '96': '0.0', '97': '0.0', '98': '0.0', 'T5': '0.0', 'T6': '0.0', 'T7': '0.0', 'T8': '0.0', 'T9': '0.0', 'J5': '0.0', 'J6': '0.0', 'J7': '0.0', 'J8': '0.0', 'J9': '0.0', 'JT': '0.0', 'Q5': '0.0', 'Q6': '0.0', 'Q7': '0.0', 'Q8': '0.0', 'Q9': '0.0', 'QT': '0.0', 'QJ': '0.0', 'K5': '69.80578502503724', 'K6': '0.0', 'K7': '0.0', 'K8': '0.0', 'K9': '0.0', 'KT': '0.0', 'KJ': '0.0', 'KQ': '0.0', 'A5': '1025.5115876935847', 'A6': '500.1198560818639', 'A7': '443.7769620587809', 'A8': '187.21002908974864', 'A9': '0.0', 'AT': '431.83062660491856', 'AJ': '527.8634679252585', 'AQ': '845.9145731543127', 'AK': '1222.2388473665474'}\n",
      "55 {'32': '0.0', '42': '0.0', '43': '156.09358140798773', '76': '449.868243451442', '86': '156.82034055822987', '87': '0.0', '96': '0.0', '97': '0.0', '98': '0.0', 'T6': '0.0', 'T7': '0.0', 'T8': '0.0', 'T9': '0.0', 'J6': '0.0', 'J7': '0.0', 'J8': '0.0', 'J9': '0.0', 'JT': '0.0', 'Q6': '0.0', 'Q7': '0.0', 'Q8': '0.0', 'Q9': '0.0', 'QT': '0.0', 'QJ': '0.0', 'K6': '12.814243024030665', 'K7': '0.0', 'K8': '0.0', 'K9': '0.0', 'KT': '0.0', 'KJ': '0.0', 'KQ': '0.0', 'A6': '703.4551582736857', 'A7': '758.0524161804518', 'A8': '371.6580871557886', 'A9': '184.58658922127282', 'AT': '330.9169892660412', 'AJ': '504.78123523831744', 'AQ': '745.9884545195791', 'AK': '1160.892412830467'}\n",
      "-----\n"
     ]
    }
   ],
   "source": [
    "preview_dict_of_dicts(open_maps)"
   ]
  },
  {
   "cell_type": "markdown",
   "metadata": {},
   "source": [
    "#### Create maps that are easily readible by a front-end framework\n",
    "Rather than have: 65: { '42': EV }, something more conducive to being turned into a css class...\n",
    "\n",
    "Something like: 65: { '42' : 'dark_green' }\n",
    "\n",
    "Also we want values to indicate which combos are fold and which combos are impossible given the sd_combo\n",
    "\n",
    "We will do these things in the following order:\n",
    "\n",
    "1. Create an object with all hands being impossible\n",
    "2. Fill replace the values of the opening hands\n",
    "3. Turn all hands that qualify, but are not opens into folds\n",
    "4. Bucket the opens into categories for better graphic display"
   ]
  },
  {
   "cell_type": "code",
   "execution_count": 23,
   "metadata": {},
   "outputs": [],
   "source": [
    "impossible_object = create_impossible_object()"
   ]
  },
  {
   "cell_type": "code",
   "execution_count": 24,
   "metadata": {},
   "outputs": [],
   "source": [
    "maps_with_opens = create_maps_with_opens(open_maps, impossible_object)"
   ]
  },
  {
   "cell_type": "code",
   "execution_count": 25,
   "metadata": {},
   "outputs": [],
   "source": [
    "# maps_with_folds = add_folds(maps_with_opens)"
   ]
  },
  {
   "cell_type": "markdown",
   "metadata": {},
   "source": [
    "Here we want to bucket (or categorize) all the hands that are opens. So rather than showing their exact ev they will receive a class that represents the bucket that they are in."
   ]
  },
  {
   "cell_type": "code",
   "execution_count": 26,
   "metadata": {},
   "outputs": [],
   "source": [
    "class_prefix = 'rfi'"
   ]
  },
  {
   "cell_type": "code",
   "execution_count": 27,
   "metadata": {},
   "outputs": [],
   "source": [
    "number_of_classes = 6"
   ]
  },
  {
   "cell_type": "code",
   "execution_count": 28,
   "metadata": {},
   "outputs": [],
   "source": [
    "width_of_each_class = 300"
   ]
  },
  {
   "cell_type": "markdown",
   "metadata": {},
   "source": [
    "Create a legend to be used for naming the classes"
   ]
  },
  {
   "cell_type": "code",
   "execution_count": 29,
   "metadata": {},
   "outputs": [],
   "source": [
    "legend = create_legend(class_prefix, number_of_classes, width_of_each_class)"
   ]
  },
  {
   "cell_type": "code",
   "execution_count": 30,
   "metadata": {},
   "outputs": [
    {
     "data": {
      "text/plain": [
       "{300: 'rfi-0',\n",
       " 600: 'rfi-1',\n",
       " 900: 'rfi-2',\n",
       " 1200: 'rfi-3',\n",
       " 1500: 'rfi-4',\n",
       " inf: 'rfi-5'}"
      ]
     },
     "execution_count": 30,
     "metadata": {},
     "output_type": "execute_result"
    }
   ],
   "source": [
    "legend"
   ]
  },
  {
   "cell_type": "markdown",
   "metadata": {},
   "source": [
    "Save the legend for furture reference on"
   ]
  },
  {
   "cell_type": "code",
   "execution_count": 31,
   "metadata": {},
   "outputs": [],
   "source": [
    "save_legend(legend, formatted_tree_path, openning_action)"
   ]
  },
  {
   "cell_type": "code",
   "execution_count": 32,
   "metadata": {},
   "outputs": [],
   "source": [
    "completed_maps = categorize_opens(maps_with_opens, legend)"
   ]
  },
  {
   "cell_type": "code",
   "execution_count": 33,
   "metadata": {},
   "outputs": [
    {
     "name": "stdout",
     "output_type": "stream",
     "text": [
      "wxwx\n",
      "33 {'AA': 'impossible', 'AK': 'rfi-4', 'AQ': 'rfi-2', 'AJ': 'rfi-1', 'AT': 'rfi-1', 'A9': 'rfi-0', 'A8': 'fold', 'A7': 'rfi-0', 'A6': 'rfi-0', 'A5': 'rfi-2', 'A4': 'rfi-2', 'A3': 'impossible', 'A2': 'rfi-0', 'KK': 'impossible', 'KQ': 'fold', 'KJ': 'fold', 'KT': 'fold', 'K9': 'fold', 'K8': 'fold', 'K7': 'fold', 'K6': 'fold', 'K5': 'fold', 'K4': 'fold', 'K3': 'impossible', 'K2': 'fold', 'QQ': 'impossible', 'QJ': 'fold', 'QT': 'fold', 'Q9': 'fold', 'Q8': 'fold', 'Q7': 'fold', 'Q6': 'fold', 'Q5': 'fold', 'Q4': 'fold', 'Q3': 'impossible', 'Q2': 'fold', 'JJ': 'impossible', 'JT': 'fold', 'J9': 'fold', 'J8': 'fold', 'J7': 'fold', 'J6': 'fold', 'J5': 'fold', 'J4': 'fold', 'J3': 'impossible', 'J2': 'fold', 'TT': 'impossible', 'T9': 'fold', 'T8': 'fold', 'T7': 'fold', 'T6': 'fold', 'T5': 'fold', 'T4': 'fold', 'T3': 'impossible', 'T2': 'fold', '99': 'impossible', '98': 'fold', '97': 'fold', '96': 'fold', '95': 'fold', '94': 'fold', '93': 'impossible', '92': 'fold', '88': 'impossible', '87': 'fold', '86': 'fold', '85': 'fold', '84': 'fold', '83': 'impossible', '82': 'fold', '77': 'impossible', '76': 'fold', '75': 'fold', '74': 'fold', '73': 'impossible', '72': 'fold', '66': 'impossible', '65': 'rfi-1', '64': 'fold', '63': 'impossible', '62': 'fold', '55': 'impossible', '54': 'rfi-0', '53': 'impossible', '52': 'fold', '44': 'impossible', '43': 'impossible', '42': 'fold', '33': 'impossible', '32': 'impossible', '22': 'rfi-4'}\n",
      "22 {'AA': 'impossible', 'AK': 'rfi-4', 'AQ': 'rfi-2', 'AJ': 'rfi-2', 'AT': 'rfi-1', 'A9': 'rfi-0', 'A8': 'fold', 'A7': 'fold', 'A6': 'fold', 'A5': 'rfi-1', 'A4': 'rfi-1', 'A3': 'rfi-1', 'A2': 'impossible', 'KK': 'impossible', 'KQ': 'rfi-0', 'KJ': 'fold', 'KT': 'fold', 'K9': 'fold', 'K8': 'fold', 'K7': 'fold', 'K6': 'fold', 'K5': 'fold', 'K4': 'fold', 'K3': 'fold', 'K2': 'impossible', 'QQ': 'impossible', 'QJ': 'fold', 'QT': 'fold', 'Q9': 'fold', 'Q8': 'fold', 'Q7': 'fold', 'Q6': 'fold', 'Q5': 'fold', 'Q4': 'fold', 'Q3': 'fold', 'Q2': 'impossible', 'JJ': 'impossible', 'JT': 'fold', 'J9': 'fold', 'J8': 'fold', 'J7': 'fold', 'J6': 'fold', 'J5': 'fold', 'J4': 'fold', 'J3': 'fold', 'J2': 'impossible', 'TT': 'impossible', 'T9': 'fold', 'T8': 'fold', 'T7': 'fold', 'T6': 'fold', 'T5': 'fold', 'T4': 'fold', 'T3': 'fold', 'T2': 'impossible', '99': 'impossible', '98': 'fold', '97': 'fold', '96': 'fold', '95': 'fold', '94': 'fold', '93': 'fold', '92': 'impossible', '88': 'impossible', '87': 'fold', '86': 'fold', '85': 'fold', '84': 'fold', '83': 'fold', '82': 'impossible', '77': 'impossible', '76': 'fold', '75': 'fold', '74': 'fold', '73': 'fold', '72': 'impossible', '66': 'impossible', '65': 'rfi-0', '64': 'fold', '63': 'fold', '62': 'impossible', '55': 'impossible', '54': 'rfi-0', '53': 'fold', '52': 'impossible', '44': 'impossible', '43': 'fold', '42': 'impossible', '33': 'impossible', '32': 'impossible', '22': 'impossible'}\n",
      "44 {'AA': 'impossible', 'AK': 'rfi-4', 'AQ': 'rfi-2', 'AJ': 'rfi-1', 'AT': 'rfi-1', 'A9': 'fold', 'A8': 'rfi-0', 'A7': 'rfi-1', 'A6': 'rfi-1', 'A5': 'rfi-3', 'A4': 'impossible', 'A3': 'rfi-1', 'A2': 'rfi-0', 'KK': 'impossible', 'KQ': 'fold', 'KJ': 'fold', 'KT': 'fold', 'K9': 'fold', 'K8': 'fold', 'K7': 'fold', 'K6': 'fold', 'K5': 'rfi-0', 'K4': 'impossible', 'K3': 'fold', 'K2': 'fold', 'QQ': 'impossible', 'QJ': 'fold', 'QT': 'fold', 'Q9': 'fold', 'Q8': 'fold', 'Q7': 'fold', 'Q6': 'fold', 'Q5': 'fold', 'Q4': 'impossible', 'Q3': 'fold', 'Q2': 'fold', 'JJ': 'impossible', 'JT': 'fold', 'J9': 'fold', 'J8': 'fold', 'J7': 'fold', 'J6': 'fold', 'J5': 'fold', 'J4': 'impossible', 'J3': 'fold', 'J2': 'fold', 'TT': 'impossible', 'T9': 'fold', 'T8': 'fold', 'T7': 'fold', 'T6': 'fold', 'T5': 'fold', 'T4': 'impossible', 'T3': 'fold', 'T2': 'fold', '99': 'impossible', '98': 'fold', '97': 'fold', '96': 'fold', '95': 'fold', '94': 'impossible', '93': 'fold', '92': 'fold', '88': 'impossible', '87': 'fold', '86': 'fold', '85': 'fold', '84': 'impossible', '83': 'fold', '82': 'fold', '77': 'impossible', '76': 'rfi-0', '75': 'rfi-0', '74': 'impossible', '73': 'fold', '72': 'fold', '66': 'impossible', '65': 'rfi-1', '64': 'impossible', '63': 'fold', '62': 'fold', '55': 'impossible', '54': 'impossible', '53': 'rfi-0', '52': 'fold', '44': 'impossible', '43': 'impossible', '42': 'impossible', '33': 'rfi-4', '32': 'fold', '22': 'rfi-3'}\n",
      "-----\n",
      "wwxy\n",
      "33 {'AA': 'impossible', 'AK': 'impossible', 'AQ': 'impossible', 'AJ': 'impossible', 'AT': 'impossible', 'A9': 'impossible', 'A8': 'impossible', 'A7': 'impossible', 'A6': 'impossible', 'A5': 'impossible', 'A4': 'impossible', 'A3': 'impossible', 'A2': 'rfi-0', 'KK': 'impossible', 'KQ': 'impossible', 'KJ': 'impossible', 'KT': 'impossible', 'K9': 'impossible', 'K8': 'impossible', 'K7': 'impossible', 'K6': 'impossible', 'K5': 'impossible', 'K4': 'impossible', 'K3': 'impossible', 'K2': 'fold', 'QQ': 'impossible', 'QJ': 'impossible', 'QT': 'impossible', 'Q9': 'impossible', 'Q8': 'impossible', 'Q7': 'impossible', 'Q6': 'impossible', 'Q5': 'impossible', 'Q4': 'impossible', 'Q3': 'impossible', 'Q2': 'fold', 'JJ': 'impossible', 'JT': 'impossible', 'J9': 'impossible', 'J8': 'impossible', 'J7': 'impossible', 'J6': 'impossible', 'J5': 'impossible', 'J4': 'impossible', 'J3': 'impossible', 'J2': 'fold', 'TT': 'impossible', 'T9': 'impossible', 'T8': 'impossible', 'T7': 'impossible', 'T6': 'impossible', 'T5': 'impossible', 'T4': 'impossible', 'T3': 'impossible', 'T2': 'fold', '99': 'impossible', '98': 'impossible', '97': 'impossible', '96': 'impossible', '95': 'impossible', '94': 'impossible', '93': 'impossible', '92': 'fold', '88': 'impossible', '87': 'impossible', '86': 'impossible', '85': 'impossible', '84': 'impossible', '83': 'impossible', '82': 'fold', '77': 'impossible', '76': 'impossible', '75': 'impossible', '74': 'impossible', '73': 'impossible', '72': 'fold', '66': 'impossible', '65': 'impossible', '64': 'impossible', '63': 'impossible', '62': 'fold', '55': 'impossible', '54': 'impossible', '53': 'impossible', '52': 'fold', '44': 'impossible', '43': 'impossible', '42': 'fold', '33': 'impossible', '32': 'impossible', '22': 'impossible'}\n",
      "44 {'AA': 'impossible', 'AK': 'impossible', 'AQ': 'impossible', 'AJ': 'impossible', 'AT': 'impossible', 'A9': 'impossible', 'A8': 'impossible', 'A7': 'impossible', 'A6': 'impossible', 'A5': 'impossible', 'A4': 'impossible', 'A3': 'rfi-1', 'A2': 'rfi-0', 'KK': 'impossible', 'KQ': 'impossible', 'KJ': 'impossible', 'KT': 'impossible', 'K9': 'impossible', 'K8': 'impossible', 'K7': 'impossible', 'K6': 'impossible', 'K5': 'impossible', 'K4': 'impossible', 'K3': 'fold', 'K2': 'fold', 'QQ': 'impossible', 'QJ': 'impossible', 'QT': 'impossible', 'Q9': 'impossible', 'Q8': 'impossible', 'Q7': 'impossible', 'Q6': 'impossible', 'Q5': 'impossible', 'Q4': 'impossible', 'Q3': 'fold', 'Q2': 'fold', 'JJ': 'impossible', 'JT': 'impossible', 'J9': 'impossible', 'J8': 'impossible', 'J7': 'impossible', 'J6': 'impossible', 'J5': 'impossible', 'J4': 'impossible', 'J3': 'fold', 'J2': 'fold', 'TT': 'impossible', 'T9': 'impossible', 'T8': 'impossible', 'T7': 'impossible', 'T6': 'impossible', 'T5': 'impossible', 'T4': 'impossible', 'T3': 'fold', 'T2': 'fold', '99': 'impossible', '98': 'impossible', '97': 'impossible', '96': 'impossible', '95': 'impossible', '94': 'impossible', '93': 'fold', '92': 'fold', '88': 'impossible', '87': 'impossible', '86': 'impossible', '85': 'impossible', '84': 'impossible', '83': 'fold', '82': 'fold', '77': 'impossible', '76': 'impossible', '75': 'impossible', '74': 'impossible', '73': 'fold', '72': 'fold', '66': 'impossible', '65': 'impossible', '64': 'impossible', '63': 'fold', '62': 'fold', '55': 'impossible', '54': 'impossible', '53': 'rfi-0', '52': 'fold', '44': 'impossible', '43': 'impossible', '42': 'impossible', '33': 'impossible', '32': 'impossible', '22': 'impossible'}\n",
      "55 {'AA': 'impossible', 'AK': 'impossible', 'AQ': 'impossible', 'AJ': 'impossible', 'AT': 'impossible', 'A9': 'impossible', 'A8': 'impossible', 'A7': 'impossible', 'A6': 'impossible', 'A5': 'impossible', 'A4': 'rfi-2', 'A3': 'rfi-2', 'A2': 'rfi-0', 'KK': 'impossible', 'KQ': 'impossible', 'KJ': 'impossible', 'KT': 'impossible', 'K9': 'impossible', 'K8': 'impossible', 'K7': 'impossible', 'K6': 'impossible', 'K5': 'impossible', 'K4': 'fold', 'K3': 'fold', 'K2': 'fold', 'QQ': 'impossible', 'QJ': 'impossible', 'QT': 'impossible', 'Q9': 'impossible', 'Q8': 'impossible', 'Q7': 'impossible', 'Q6': 'impossible', 'Q5': 'impossible', 'Q4': 'fold', 'Q3': 'fold', 'Q2': 'fold', 'JJ': 'impossible', 'JT': 'impossible', 'J9': 'impossible', 'J8': 'impossible', 'J7': 'impossible', 'J6': 'impossible', 'J5': 'impossible', 'J4': 'fold', 'J3': 'fold', 'J2': 'fold', 'TT': 'impossible', 'T9': 'impossible', 'T8': 'impossible', 'T7': 'impossible', 'T6': 'impossible', 'T5': 'impossible', 'T4': 'fold', 'T3': 'fold', 'T2': 'fold', '99': 'impossible', '98': 'impossible', '97': 'impossible', '96': 'impossible', '95': 'impossible', '94': 'fold', '93': 'fold', '92': 'fold', '88': 'impossible', '87': 'impossible', '86': 'impossible', '85': 'impossible', '84': 'fold', '83': 'fold', '82': 'fold', '77': 'impossible', '76': 'impossible', '75': 'impossible', '74': 'rfi-0', '73': 'fold', '72': 'fold', '66': 'impossible', '65': 'impossible', '64': 'rfi-1', '63': 'rfi-0', '62': 'fold', '55': 'impossible', '54': 'impossible', '53': 'impossible', '52': 'impossible', '44': 'impossible', '43': 'impossible', '42': 'impossible', '33': 'impossible', '32': 'impossible', '22': 'impossible'}\n",
      "-----\n",
      "wxxw\n",
      "22 {'AA': 'impossible', 'AK': 'rfi-4', 'AQ': 'rfi-2', 'AJ': 'rfi-2', 'AT': 'rfi-1', 'A9': 'rfi-0', 'A8': 'fold', 'A7': 'fold', 'A6': 'fold', 'A5': 'rfi-1', 'A4': 'rfi-1', 'A3': 'rfi-1', 'A2': 'impossible', 'KK': 'impossible', 'KQ': 'rfi-0', 'KJ': 'fold', 'KT': 'fold', 'K9': 'fold', 'K8': 'fold', 'K7': 'fold', 'K6': 'fold', 'K5': 'fold', 'K4': 'fold', 'K3': 'fold', 'K2': 'impossible', 'QQ': 'impossible', 'QJ': 'fold', 'QT': 'fold', 'Q9': 'fold', 'Q8': 'fold', 'Q7': 'fold', 'Q6': 'fold', 'Q5': 'fold', 'Q4': 'fold', 'Q3': 'fold', 'Q2': 'impossible', 'JJ': 'impossible', 'JT': 'fold', 'J9': 'fold', 'J8': 'fold', 'J7': 'fold', 'J6': 'fold', 'J5': 'fold', 'J4': 'fold', 'J3': 'fold', 'J2': 'impossible', 'TT': 'impossible', 'T9': 'fold', 'T8': 'fold', 'T7': 'fold', 'T6': 'fold', 'T5': 'fold', 'T4': 'fold', 'T3': 'fold', 'T2': 'impossible', '99': 'impossible', '98': 'fold', '97': 'fold', '96': 'fold', '95': 'fold', '94': 'fold', '93': 'fold', '92': 'impossible', '88': 'impossible', '87': 'fold', '86': 'fold', '85': 'fold', '84': 'fold', '83': 'fold', '82': 'impossible', '77': 'impossible', '76': 'fold', '75': 'fold', '74': 'fold', '73': 'fold', '72': 'impossible', '66': 'impossible', '65': 'rfi-0', '64': 'fold', '63': 'fold', '62': 'impossible', '55': 'impossible', '54': 'rfi-0', '53': 'fold', '52': 'impossible', '44': 'impossible', '43': 'fold', '42': 'impossible', '33': 'impossible', '32': 'impossible', '22': 'impossible'}\n",
      "44 {'AA': 'impossible', 'AK': 'rfi-4', 'AQ': 'rfi-2', 'AJ': 'rfi-1', 'AT': 'rfi-1', 'A9': 'fold', 'A8': 'rfi-0', 'A7': 'rfi-1', 'A6': 'rfi-1', 'A5': 'rfi-3', 'A4': 'impossible', 'A3': 'impossible', 'A2': 'impossible', 'KK': 'impossible', 'KQ': 'fold', 'KJ': 'fold', 'KT': 'fold', 'K9': 'fold', 'K8': 'fold', 'K7': 'fold', 'K6': 'fold', 'K5': 'rfi-0', 'K4': 'impossible', 'K3': 'impossible', 'K2': 'impossible', 'QQ': 'impossible', 'QJ': 'fold', 'QT': 'fold', 'Q9': 'fold', 'Q8': 'fold', 'Q7': 'fold', 'Q6': 'fold', 'Q5': 'fold', 'Q4': 'impossible', 'Q3': 'impossible', 'Q2': 'impossible', 'JJ': 'impossible', 'JT': 'fold', 'J9': 'fold', 'J8': 'fold', 'J7': 'fold', 'J6': 'fold', 'J5': 'fold', 'J4': 'impossible', 'J3': 'impossible', 'J2': 'impossible', 'TT': 'impossible', 'T9': 'fold', 'T8': 'fold', 'T7': 'fold', 'T6': 'fold', 'T5': 'fold', 'T4': 'impossible', 'T3': 'impossible', 'T2': 'impossible', '99': 'impossible', '98': 'fold', '97': 'fold', '96': 'fold', '95': 'fold', '94': 'impossible', '93': 'impossible', '92': 'impossible', '88': 'impossible', '87': 'fold', '86': 'fold', '85': 'fold', '84': 'impossible', '83': 'impossible', '82': 'impossible', '77': 'impossible', '76': 'rfi-0', '75': 'rfi-0', '74': 'impossible', '73': 'impossible', '72': 'impossible', '66': 'impossible', '65': 'rfi-1', '64': 'impossible', '63': 'impossible', '62': 'impossible', '55': 'impossible', '54': 'impossible', '53': 'impossible', '52': 'impossible', '44': 'impossible', '43': 'impossible', '42': 'impossible', '33': 'impossible', '32': 'fold', '22': 'impossible'}\n",
      "55 {'AA': 'impossible', 'AK': 'rfi-3', 'AQ': 'rfi-2', 'AJ': 'rfi-1', 'AT': 'rfi-1', 'A9': 'rfi-0', 'A8': 'rfi-1', 'A7': 'rfi-2', 'A6': 'rfi-2', 'A5': 'impossible', 'A4': 'impossible', 'A3': 'impossible', 'A2': 'impossible', 'KK': 'impossible', 'KQ': 'fold', 'KJ': 'fold', 'KT': 'fold', 'K9': 'fold', 'K8': 'fold', 'K7': 'fold', 'K6': 'rfi-0', 'K5': 'impossible', 'K4': 'impossible', 'K3': 'impossible', 'K2': 'impossible', 'QQ': 'impossible', 'QJ': 'fold', 'QT': 'fold', 'Q9': 'fold', 'Q8': 'fold', 'Q7': 'fold', 'Q6': 'fold', 'Q5': 'impossible', 'Q4': 'impossible', 'Q3': 'impossible', 'Q2': 'impossible', 'JJ': 'impossible', 'JT': 'fold', 'J9': 'fold', 'J8': 'fold', 'J7': 'fold', 'J6': 'fold', 'J5': 'impossible', 'J4': 'impossible', 'J3': 'impossible', 'J2': 'impossible', 'TT': 'impossible', 'T9': 'fold', 'T8': 'fold', 'T7': 'fold', 'T6': 'fold', 'T5': 'impossible', 'T4': 'impossible', 'T3': 'impossible', 'T2': 'impossible', '99': 'impossible', '98': 'fold', '97': 'fold', '96': 'fold', '95': 'impossible', '94': 'impossible', '93': 'impossible', '92': 'impossible', '88': 'impossible', '87': 'fold', '86': 'rfi-0', '85': 'impossible', '84': 'impossible', '83': 'impossible', '82': 'impossible', '77': 'impossible', '76': 'rfi-1', '75': 'impossible', '74': 'impossible', '73': 'impossible', '72': 'impossible', '66': 'impossible', '65': 'impossible', '64': 'impossible', '63': 'impossible', '62': 'impossible', '55': 'impossible', '54': 'impossible', '53': 'impossible', '52': 'impossible', '44': 'impossible', '43': 'rfi-0', '42': 'fold', '33': 'impossible', '32': 'fold', '22': 'impossible'}\n",
      "-----\n"
     ]
    }
   ],
   "source": [
    "preview_dict_of_dicts(completed_maps)"
   ]
  },
  {
   "cell_type": "markdown",
   "metadata": {},
   "source": [
    "## Now that we have seen that your formatting works, let's format all of our files"
   ]
  },
  {
   "cell_type": "code",
   "execution_count": 34,
   "metadata": {},
   "outputs": [
    {
     "data": {
      "application/vnd.jupyter.widget-view+json": {
       "model_id": "1770f2b8b547499494bb5939b95f8587",
       "version_major": 2,
       "version_minor": 0
      },
      "text/plain": [
       "IntProgress(value=0, description='Files Completed:', max=45)"
      ]
     },
     "metadata": {},
     "output_type": "display_data"
    },
    {
     "name": "stdout",
     "output_type": "stream",
     "text": [
      "34320\n",
      "24384\n",
      "-----\n",
      "2860\n",
      "1736\n",
      "-----\n",
      "25740\n",
      "24480\n",
      "-----\n",
      "17160\n",
      "8064\n",
      "-----\n",
      "102960\n",
      "82224\n",
      "-----\n",
      "10296\n",
      "8184\n",
      "-----\n",
      "10764\n",
      "10428\n",
      "-----\n",
      "11401\n",
      "7237\n",
      "-----\n",
      "55224\n",
      "46308\n",
      "-----\n",
      "34320\n",
      "26352\n",
      "-----\n",
      "2860\n",
      "1908\n",
      "-----\n",
      "25740\n",
      "24828\n",
      "-----\n",
      "17160\n",
      "10128\n",
      "-----\n",
      "102960\n",
      "86112\n",
      "-----\n",
      "10296\n",
      "8880\n",
      "-----\n",
      "10764\n",
      "10536\n",
      "-----\n",
      "11401\n",
      "7653\n",
      "-----\n",
      "55224\n",
      "48396\n",
      "-----\n",
      "34320\n",
      "28272\n",
      "-----\n",
      "2860\n",
      "2076\n",
      "-----\n",
      "25740\n",
      "25068\n",
      "-----\n",
      "17160\n",
      "11472\n",
      "-----\n",
      "102960\n",
      "92136\n",
      "-----\n",
      "10296\n",
      "9360\n",
      "-----\n",
      "10764\n",
      "10668\n",
      "-----\n",
      "11401\n",
      "8609\n",
      "-----\n",
      "55224\n",
      "50892\n",
      "-----\n",
      "34320\n",
      "31680\n",
      "-----\n",
      "2860\n",
      "2464\n",
      "-----\n",
      "25740\n",
      "25500\n",
      "-----\n",
      "17160\n",
      "15264\n",
      "-----\n",
      "102960\n",
      "98616\n",
      "-----\n",
      "10296\n",
      "10032\n",
      "-----\n",
      "10764\n",
      "10752\n",
      "-----\n",
      "11401\n",
      "10010\n",
      "-----\n",
      "55224\n",
      "53604\n",
      "-----\n",
      "34320\n",
      "31392\n",
      "-----\n",
      "2860\n",
      "2600\n",
      "-----\n",
      "25740\n",
      "25212\n",
      "-----\n",
      "17160\n",
      "14472\n",
      "-----\n",
      "102960\n",
      "96864\n",
      "-----\n",
      "10224\n",
      "10068\n",
      "-----\n",
      "10602\n",
      "10740\n",
      "-----\n",
      "11371\n",
      "10487\n",
      "-----\n",
      "54948\n",
      "53532\n",
      "-----\n"
     ]
    },
    {
     "data": {
      "text/plain": [
       "'Done'"
      ]
     },
     "execution_count": 34,
     "metadata": {},
     "output_type": "execute_result"
    }
   ],
   "source": [
    "format_files(files_to_process, legend)  # Note that this can take between minutes to hours."
   ]
  },
  {
   "cell_type": "code",
   "execution_count": null,
   "metadata": {},
   "outputs": [],
   "source": [
    "format_files()"
   ]
  }
 ],
 "metadata": {
  "kernelspec": {
   "display_name": "Python 3",
   "language": "python",
   "name": "python3"
  },
  "language_info": {
   "codemirror_mode": {
    "name": "ipython",
    "version": 3
   },
   "file_extension": ".py",
   "mimetype": "text/x-python",
   "name": "python",
   "nbconvert_exporter": "python",
   "pygments_lexer": "ipython3",
   "version": "3.8.5"
  }
 },
 "nbformat": 4,
 "nbformat_minor": 4
}
